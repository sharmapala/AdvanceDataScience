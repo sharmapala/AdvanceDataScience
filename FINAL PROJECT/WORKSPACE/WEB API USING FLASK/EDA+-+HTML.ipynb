{
 "cells": [
  {
   "cell_type": "code",
   "execution_count": 2,
   "metadata": {},
   "outputs": [],
   "source": [
    "import urllib\n",
    "from urllib import request\n",
    "import pandas as pd\n",
    "\n",
    "url ='https://storage.googleapis.com/team3/final_flight_delay.csv'\n",
    "df = urllib.request.urlopen(url)\n",
    "\n",
    "df  = pd.read_csv(df)\n",
    "data = df.fillna(method='bfill',axis=0).fillna('0')\n",
    "import calendar\n",
    "df['month'] = df['Month'].apply(lambda x: calendar.month_abbr[x])\n",
    "\n",
    "first_month = df.loc[df['month'] == 'Jan']\n",
    "second_month = df.loc[df['month'] == 'Feb']\n",
    "third_month = df.loc[df['month'] == 'Mar']\n",
    "forth_month = df.loc[df['month'] == 'Apr']\n",
    "fifth_month = df.loc[df['month'] == 'May']"
   ]
  },
  {
   "cell_type": "code",
   "execution_count": 3,
   "metadata": {
    "collapsed": true
   },
   "outputs": [],
   "source": [
    "sixth_month = df.loc[df['month'] == 'June']\n",
    "seventh_month = df.loc[df['month'] == 'July']\n",
    "eigth_month = df.loc[df['month'] == 'April']\n",
    "ninth_month = df.loc[df['month'] == 'Sept']\n",
    "tenth_month = df.loc[df['month'] == 'Oct']\n",
    "eleventh_month = df.loc[df['month'] == 'Nov']\n",
    "tweleth_month = df.loc[df['month'] == 'Dec']\n"
   ]
  },
  {
   "cell_type": "code",
   "execution_count": 9,
   "metadata": {},
   "outputs": [],
   "source": [
    "plt.hist(first_month['UniqueCarrier'])\n",
    "plt.savefig('jan.png')"
   ]
  },
  {
   "cell_type": "code",
   "execution_count": 10,
   "metadata": {
    "collapsed": true
   },
   "outputs": [],
   "source": [
    "plt.hist(second_month['UniqueCarrier'])\n",
    "plt.savefig('feb.png')"
   ]
  },
  {
   "cell_type": "code",
   "execution_count": 11,
   "metadata": {
    "collapsed": true
   },
   "outputs": [],
   "source": [
    "plt.hist(third_month['UniqueCarrier'])\n",
    "plt.savefig('march.png')"
   ]
  },
  {
   "cell_type": "code",
   "execution_count": 12,
   "metadata": {
    "collapsed": true
   },
   "outputs": [],
   "source": [
    "plt.hist(forth_month['UniqueCarrier'])\n",
    "plt.savefig('april.png')"
   ]
  },
  {
   "cell_type": "code",
   "execution_count": 13,
   "metadata": {
    "collapsed": true
   },
   "outputs": [],
   "source": [
    "plt.hist(fifth_month['UniqueCarrier'])\n",
    "plt.savefig('may.png')"
   ]
  },
  {
   "cell_type": "code",
   "execution_count": 14,
   "metadata": {
    "collapsed": true
   },
   "outputs": [],
   "source": [
    "plt.hist(sixth_month['UniqueCarrier'])\n",
    "plt.savefig('june.png')"
   ]
  },
  {
   "cell_type": "code",
   "execution_count": 15,
   "metadata": {
    "collapsed": true
   },
   "outputs": [],
   "source": [
    "plt.hist(seventh_month['UniqueCarrier'])\n",
    "plt.savefig('july.png')"
   ]
  },
  {
   "cell_type": "code",
   "execution_count": 16,
   "metadata": {
    "collapsed": true
   },
   "outputs": [],
   "source": [
    "plt.hist(eigth_month['UniqueCarrier'])\n",
    "plt.savefig('aug.png')"
   ]
  },
  {
   "cell_type": "code",
   "execution_count": 17,
   "metadata": {
    "collapsed": true
   },
   "outputs": [],
   "source": [
    "plt.hist(ninth_month['UniqueCarrier'])\n",
    "plt.savefig('sep.png')"
   ]
  },
  {
   "cell_type": "code",
   "execution_count": 18,
   "metadata": {
    "collapsed": true
   },
   "outputs": [],
   "source": [
    "plt.hist(tenth_month['UniqueCarrier'])\n",
    "plt.savefig('oct.png')"
   ]
  },
  {
   "cell_type": "code",
   "execution_count": 19,
   "metadata": {
    "collapsed": true
   },
   "outputs": [],
   "source": [
    "plt.hist(eleventh_month['UniqueCarrier'])\n",
    "plt.savefig('nov.png')"
   ]
  },
  {
   "cell_type": "code",
   "execution_count": 20,
   "metadata": {
    "collapsed": true
   },
   "outputs": [],
   "source": [
    "plt.hist(tweleth_month['UniqueCarrier'])\n",
    "plt.savefig('dec.png')"
   ]
  },
  {
   "cell_type": "code",
   "execution_count": 29,
   "metadata": {},
   "outputs": [],
   "source": []
  },
  {
   "cell_type": "code",
   "execution_count": null,
   "metadata": {},
   "outputs": [],
   "source": []
  },
  {
   "cell_type": "code",
   "execution_count": null,
   "metadata": {
    "collapsed": true
   },
   "outputs": [],
   "source": []
  }
 ],
 "metadata": {
  "kernelspec": {
   "display_name": "Python 3",
   "language": "python",
   "name": "python3"
  },
  "language_info": {
   "codemirror_mode": {
    "name": "ipython",
    "version": 3
   },
   "file_extension": ".py",
   "mimetype": "text/x-python",
   "name": "python",
   "nbconvert_exporter": "python",
   "pygments_lexer": "ipython3",
   "version": "3.6.3"
  }
 },
 "nbformat": 4,
 "nbformat_minor": 2
}
